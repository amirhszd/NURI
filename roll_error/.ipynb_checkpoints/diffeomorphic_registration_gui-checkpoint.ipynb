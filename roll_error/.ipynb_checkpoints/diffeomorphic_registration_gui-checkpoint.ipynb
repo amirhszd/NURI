{
 "cells": [
  {
   "cell_type": "code",
   "execution_count": 3,
   "metadata": {},
   "outputs": [],
   "source": [
    "import matplotlib\n",
    "%matplotlib notebook\n",
    "from spectral.io import envi\n",
    "import numpy as np\n",
    "import numpy.ma as ma\n",
    "import os\n",
    "import matplotlib.pyplot as plt\n",
    "from dipy.align.imwarp import SymmetricDiffeomorphicRegistration\n",
    "from dipy.align.metrics import SSDMetric, CCMetric\n",
    "import dipy.align.imwarp as imwarp\n",
    "from dipy.viz import regtools\n",
    "from scipy.ndimage import gaussian_filter\n",
    "\n",
    "from ipywidgets import interact, fixed\n",
    "\n",
    "\n",
    "def load_image_envi(waterfall_path):\n",
    "    vnir_ds = envi.open(waterfall_path)\n",
    "    vnir_profile = vnir_ds.metadata\n",
    "    vnir_arr = vnir_ds.load()\n",
    "\n",
    "    return vnir_arr, vnir_profile\n",
    "\n",
    "def callback_CC(sdr, status):\n",
    "    # Status indicates at which stage of the optimization we currently are\n",
    "    # For now, we will only react at the end of each resolution of the scale\n",
    "    # space\n",
    "    if status == imwarp.RegistrationStages.SCALE_END:\n",
    "        # get the current images from the metric\n",
    "        wmoving = sdr.metric.moving_image\n",
    "        wstatic = sdr.metric.static_image\n",
    "        # draw the images on top of each other with different colors\n",
    "        regtools.overlay_images(wmoving, wstatic, 'Warped moving', 'Overlay',\n",
    "                                'Warped static')\n"
   ]
  },
  {
   "cell_type": "code",
   "execution_count": 4,
   "metadata": {},
   "outputs": [
    {
     "data": {
      "application/vnd.jupyter.widget-view+json": {
       "model_id": "90e7e809a2c94c22a619440f3a3ea2e1",
       "version_major": 2,
       "version_minor": 0
      },
      "text/plain": [
       "interactive(children=(FloatSlider(value=0.5005, description='tol', max=1.0, min=0.001), Output()), _dom_classe…"
      ]
     },
     "metadata": {},
     "output_type": "display_data"
    },
    {
     "data": {
      "text/plain": [
       "<function __main__.update_parameters(mica_patch, swir_patch, tol)>"
      ]
     },
     "execution_count": 4,
     "metadata": {},
     "output_type": "execute_result"
    }
   ],
   "source": [
    "\n",
    "# load the SWIR image and select band 38\n",
    "or_hdr = \"/Volumes/T7/axhcis/Projects/NURI/data/20210723_tait_labsphere/1133/SWIR/raw_1504_nuc_or_plusindices3.hdr\"\n",
    "swir_arr, swir_profile= load_image_envi(or_hdr)\n",
    "swir_patch = swir_arr[1064:1181, 493:668, 37].squeeze()\n",
    "\n",
    "# load the micasense and select last band\n",
    "mica_hdr = \"/Volumes/T7/axhcis/Projects/NURI/data/20210723_tait_labsphere/1133/Micasense/NURI_micasense_1133_transparent_mosaic_stacked_warped.hdr\"\n",
    "mica_arr, mica_profile = load_image_envi(mica_hdr)\n",
    "mica_patch = mica_arr[2655:2772, 812:987, -1].squeeze()\n",
    "mica_patch = gaussian_filter(mica_patch, sigma=3)\n",
    "\n",
    "metric = CCMetric(2, 2, 3)\n",
    "sdr = SymmetricDiffeomorphicRegistration(metric=metric,\n",
    "                                 step_length=1.0,\n",
    "                                 level_iters=[100,50],\n",
    "                                 inv_iter=50,\n",
    "                                 ss_sigma_factor=0.1,\n",
    "                                 opt_tol=0.1)\n",
    "\n",
    "mapping = sdr.optimize(mica_patch, swir_patch)\n",
    "swir_patch_warped = mapping.transform(swir_patch)\n",
    "\n",
    "\n",
    "fig, ax = plt.subplots(1, 3, figsize=(10, 8))\n",
    "ax[0].imshow(swir_patch)\n",
    "ax[0].axis(\"off\")\n",
    "ax[1].imshow(mica_patch)\n",
    "ax[1].axis(\"off\")\n",
    "im3 = ax[2].imshow(swir_patch_warped)\n",
    "ax[2].axis(\"off\")\n",
    "\n",
    "def update_parameters(mica_patch, swir_patch, tol):\n",
    "\n",
    "    metric = CCMetric(2, 2, 3)\n",
    "    sdr = SymmetricDiffeomorphicRegistration(metric=metric,\n",
    "                                     step_length=1.0,\n",
    "                                     level_iters=[100,50],\n",
    "                                     inv_iter=50,\n",
    "                                     ss_sigma_factor=0.1,\n",
    "                                     opt_tol=tol)\n",
    "\n",
    "    mapping = sdr.optimize(mica_patch, swir_patch)\n",
    "    swir_patch_warped = mapping.transform(swir_patch)\n",
    "    \n",
    "    im3/\n",
    "\n",
    "interact(update_parameters,\n",
    "         mica_patch = fixed(mica_patch),\n",
    "         swir_patch = fixed(swir_patch),\n",
    "         tol = (0.001,1))\n"
   ]
  },
  {
   "cell_type": "code",
   "execution_count": null,
   "metadata": {},
   "outputs": [],
   "source": []
  }
 ],
 "metadata": {
  "kernelspec": {
   "display_name": "Python 3 (ipykernel)",
   "language": "python",
   "name": "python3"
  },
  "language_info": {
   "codemirror_mode": {
    "name": "ipython",
    "version": 3
   },
   "file_extension": ".py",
   "mimetype": "text/x-python",
   "name": "python",
   "nbconvert_exporter": "python",
   "pygments_lexer": "ipython3",
   "version": "3.7.12"
  }
 },
 "nbformat": 4,
 "nbformat_minor": 1
}
